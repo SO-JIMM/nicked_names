{
 "cells": [
  {
   "cell_type": "code",
   "execution_count": 1,
   "id": "95a8f26e",
   "metadata": {},
   "outputs": [],
   "source": [
    "import pandas as pd\n",
    "import ftfy\n",
    "from pathlib import Path"
   ]
  },
  {
   "cell_type": "code",
   "execution_count": 2,
   "id": "23abc891",
   "metadata": {},
   "outputs": [],
   "source": [
    "folder = Path('fb-messages')\n",
    "blair_folder = folder.joinpath(\"blair\")\n",
    "marty_folder = folder.joinpath(\"marty\")\n",
    "group_folder = folder.joinpath(\"barwon\")"
   ]
  },
  {
   "cell_type": "code",
   "execution_count": 3,
   "id": "36acb075",
   "metadata": {},
   "outputs": [],
   "source": [
    "# [x for x in blair_folder.iterdir() if x.is_dir()]\n",
    "# sorted(blair.rglob(\"*.json\"))\n",
    "# for child in blair_folder.iterdir(): print (child)\n",
    "# list(blair_folder.iterdir())"
   ]
  },
  {
   "cell_type": "code",
   "execution_count": 46,
   "id": "5ca9e6b1",
   "metadata": {},
   "outputs": [],
   "source": [
    "names_df = []"
   ]
  },
  {
   "cell_type": "code",
   "execution_count": 47,
   "id": "d2a5a1ff",
   "metadata": {},
   "outputs": [],
   "source": []
  },
  {
   "cell_type": "code",
   "execution_count": 48,
   "id": "fa5103da",
   "metadata": {},
   "outputs": [],
   "source": [
    "def get_nick_names(file_path):\n",
    "    df = pd.read_json(file_path, typ=\"series\")\n",
    "    df = pd.Series(df[\"messages\"])\n",
    "    df = pd.json_normalize(df)\n",
    "    df = df[[\"content\", \"sender_name\", \"timestamp_ms\"]]\n",
    "    df = df.fillna(\"\")\n",
    "    df[\"content\"] = df.content.apply(ftfy.fix_text) \n",
    "    df = df[df[\"content\"].str.contains(\"nickname to\") == True]\n",
    "    df[\"content\"] = df.content.str.split(\"nickname to\")\n",
    "    df[\"content\"] = df[\"content\"].apply(get_second).str.strip(\" \")\n",
    "    names_df.append(df)\n"
   ]
  },
  {
   "cell_type": "code",
   "execution_count": 49,
   "id": "94256634",
   "metadata": {},
   "outputs": [],
   "source": [
    "files = list(blair_folder.iterdir()) + list(marty_folder.iterdir()) + list(group_folder.iterdir())"
   ]
  },
  {
   "cell_type": "code",
   "execution_count": 50,
   "id": "07aa7512",
   "metadata": {},
   "outputs": [
    {
     "data": {
      "text/plain": [
       "[WindowsPath('fb-messages/blair/message_1.json'),\n",
       " WindowsPath('fb-messages/blair/message_2.json'),\n",
       " WindowsPath('fb-messages/blair/message_3.json'),\n",
       " WindowsPath('fb-messages/blair/message_4.json'),\n",
       " WindowsPath('fb-messages/blair/message_5.json'),\n",
       " WindowsPath('fb-messages/marty/message_1.json'),\n",
       " WindowsPath('fb-messages/barwon/message_1.json')]"
      ]
     },
     "execution_count": 50,
     "metadata": {},
     "output_type": "execute_result"
    }
   ],
   "source": [
    "files"
   ]
  },
  {
   "cell_type": "code",
   "execution_count": 51,
   "id": "b8b1d4c6",
   "metadata": {},
   "outputs": [],
   "source": [
    "for x in files: get_nick_names(x)"
   ]
  },
  {
   "cell_type": "code",
   "execution_count": 52,
   "id": "d9c4d776",
   "metadata": {},
   "outputs": [],
   "source": [
    "df = pd.concat(names_df, ignore_index=True)"
   ]
  },
  {
   "cell_type": "code",
   "execution_count": 53,
   "id": "fe95a479",
   "metadata": {},
   "outputs": [],
   "source": [
    "df.to_json(\"./nicknames.json\", orient=\"records\", force_ascii=False)"
   ]
  },
  {
   "cell_type": "code",
   "execution_count": 54,
   "id": "49a526f1",
   "metadata": {},
   "outputs": [],
   "source": [
    "df = df.drop_duplicates(subset=\"content\")"
   ]
  },
  {
   "cell_type": "code",
   "execution_count": 55,
   "id": "0741adff",
   "metadata": {},
   "outputs": [
    {
     "data": {
      "text/plain": [
       "Show Girl Trial              1\n",
       "Reference Pint               1\n",
       "Former Family First          1\n",
       "Sexy Cancer                  1\n",
       "HMG Reasonable Worst Case    1\n",
       "                            ..\n",
       "Cash-leash Society           1\n",
       "Fruity Dyslexia              1\n",
       "Drone Pogrom                 1\n",
       "New Abnormal                 1\n",
       "Kim Dotcomrade               1\n",
       "Name: content, Length: 1630, dtype: int64"
      ]
     },
     "execution_count": 55,
     "metadata": {},
     "output_type": "execute_result"
    }
   ],
   "source": [
    "df.content.value_counts()"
   ]
  },
  {
   "cell_type": "code",
   "execution_count": 56,
   "id": "ff5ee3d4",
   "metadata": {},
   "outputs": [
    {
     "data": {
      "text/plain": [
       "1630"
      ]
     },
     "execution_count": 56,
     "metadata": {},
     "output_type": "execute_result"
    }
   ],
   "source": [
    "df.content.nunique()"
   ]
  },
  {
   "cell_type": "code",
   "execution_count": 57,
   "id": "c3922079",
   "metadata": {},
   "outputs": [
    {
     "data": {
      "text/plain": [
       "Show Girl Trial              1\n",
       "Reference Pint               1\n",
       "Former Family First          1\n",
       "Sexy Cancer                  1\n",
       "HMG Reasonable Worst Case    1\n",
       "                            ..\n",
       "Cash-leash Society           1\n",
       "Fruity Dyslexia              1\n",
       "Drone Pogrom                 1\n",
       "New Abnormal                 1\n",
       "Kim Dotcomrade               1\n",
       "Name: content, Length: 1630, dtype: int64"
      ]
     },
     "execution_count": 57,
     "metadata": {},
     "output_type": "execute_result"
    }
   ],
   "source": [
    "df.content.value_counts()"
   ]
  },
  {
   "cell_type": "code",
   "execution_count": null,
   "id": "fcf22841",
   "metadata": {},
   "outputs": [],
   "source": []
  }
 ],
 "metadata": {
  "kernelspec": {
   "display_name": "Python 3 (ipykernel)",
   "language": "python",
   "name": "python3"
  },
  "language_info": {
   "codemirror_mode": {
    "name": "ipython",
    "version": 3
   },
   "file_extension": ".py",
   "mimetype": "text/x-python",
   "name": "python",
   "nbconvert_exporter": "python",
   "pygments_lexer": "ipython3",
   "version": "3.8.13"
  }
 },
 "nbformat": 4,
 "nbformat_minor": 5
}
