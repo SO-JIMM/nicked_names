{
 "cells": [
  {
   "cell_type": "code",
   "execution_count": 4,
   "id": "b69eed80",
   "metadata": {},
   "outputs": [],
   "source": [
    "import pandas as pd\n",
    "import ftfy\n",
    "from pathlib import Path"
   ]
  },
  {
   "cell_type": "code",
   "execution_count": 16,
   "id": "e611f4da",
   "metadata": {},
   "outputs": [],
   "source": [
    "folders = []\n",
    "input_folder = Path('fb-messages')\n",
    "msg_files = []\n",
    "for x in input_folder.iterdir():\n",
    "    folders.append(Path(x))\n",
    "    \n",
    "for y in folders:\n",
    "    z = list(y.iterdir())\n",
    "    for a in z:\n",
    "        if a.rglob(\"*.json\"):\n",
    "            msg_files.append(Path(a))"
   ]
  },
  {
   "cell_type": "code",
   "execution_count": 20,
   "id": "5ffd8b27",
   "metadata": {},
   "outputs": [],
   "source": [
    "names_df = []"
   ]
  },
  {
   "cell_type": "code",
   "execution_count": 21,
   "id": "7664db8b",
   "metadata": {},
   "outputs": [],
   "source": [
    "def get_second(x):\n",
    "    return x[1].rstrip('.')"
   ]
  },
  {
   "cell_type": "code",
   "execution_count": 22,
   "id": "d0496c82",
   "metadata": {},
   "outputs": [],
   "source": [
    "def get_nick_names(file_path):\n",
    "    df = pd.read_json(file_path, typ=\"series\")\n",
    "    df = pd.Series(df[\"messages\"])\n",
    "    df = pd.json_normalize(df)\n",
    "    df = df[[\"content\", \"sender_name\", \"timestamp_ms\"]]\n",
    "    df = df.fillna(\"\")\n",
    "    df[\"content\"] = df.content.apply(ftfy.fix_text) \n",
    "    df = df[df[\"content\"].str.contains(\"nickname to\") == True]\n",
    "    df[\"content\"] = df.content.str.split(\"nickname to\")\n",
    "    df[\"content\"] = df[\"content\"].apply(get_second).str.strip(\" \")\n",
    "    names_df.append(df)\n"
   ]
  },
  {
   "cell_type": "code",
   "execution_count": 23,
   "id": "2bc68931",
   "metadata": {},
   "outputs": [],
   "source": [
    "for x in msg_files: get_nick_names(x)"
   ]
  },
  {
   "cell_type": "code",
   "execution_count": 24,
   "id": "f201b837",
   "metadata": {},
   "outputs": [],
   "source": [
    "df = pd.concat(names_df, ignore_index=True)"
   ]
  },
  {
   "cell_type": "code",
   "execution_count": 26,
   "id": "378902d7",
   "metadata": {},
   "outputs": [],
   "source": [
    "df.to_json(\"./output/nicknames.json\", orient=\"records\", force_ascii=False)"
   ]
  },
  {
   "cell_type": "code",
   "execution_count": null,
   "id": "974ef414",
   "metadata": {},
   "outputs": [],
   "source": []
  }
 ],
 "metadata": {
  "kernelspec": {
   "display_name": "Python 3 (ipykernel)",
   "language": "python",
   "name": "python3"
  },
  "language_info": {
   "codemirror_mode": {
    "name": "ipython",
    "version": 3
   },
   "file_extension": ".py",
   "mimetype": "text/x-python",
   "name": "python",
   "nbconvert_exporter": "python",
   "pygments_lexer": "ipython3",
   "version": "3.8.13"
  }
 },
 "nbformat": 4,
 "nbformat_minor": 5
}
